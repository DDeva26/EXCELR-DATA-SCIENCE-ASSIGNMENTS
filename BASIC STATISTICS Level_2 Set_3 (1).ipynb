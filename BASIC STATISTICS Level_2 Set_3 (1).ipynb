{
 "cells": [
  {
   "cell_type": "markdown",
   "id": "0745eb09",
   "metadata": {},
   "source": [
    "# Q5.In January 2005, a company that monitors Internet traffic (WebSideStory) reported that its sampling revealed that the Mozilla Firefox browser launched in 2004 had grabbed a 4.6% share of the market."
   ]
  },
  {
   "cell_type": "code",
   "execution_count": 1,
   "id": "ff1d25a2",
   "metadata": {},
   "outputs": [],
   "source": [
    "import numpy as np\n",
    "from scipy import stats\n",
    "from scipy.stats import norm"
   ]
  },
  {
   "cell_type": "code",
   "execution_count": 3,
   "id": "b8f47c5a",
   "metadata": {},
   "outputs": [],
   "source": [
    "#I.If the sample were based on 2,000 users, could Microsoft conclude that Mozilla has a less than 5% share of the market?"
   ]
  },
  {
   "cell_type": "code",
   "execution_count": 2,
   "id": "a46f41db",
   "metadata": {},
   "outputs": [],
   "source": [
    "#calculate z score (p^-p)/√(p(1-p)/n) ...N(0,1)"
   ]
  },
  {
   "cell_type": "code",
   "execution_count": 4,
   "id": "ae870100",
   "metadata": {},
   "outputs": [
    {
     "data": {
      "text/plain": [
       "-0.820782681668124"
      ]
     },
     "execution_count": 4,
     "metadata": {},
     "output_type": "execute_result"
    }
   ],
   "source": [
    "z_scores=(0.046-0.05)/(np.sqrt((0.05*(1-0.05))/2000))\n",
    "z_scores                                                  #p^=0.46 p=0.5 n=2000"
   ]
  },
  {
   "cell_type": "code",
   "execution_count": 5,
   "id": "c52e2055",
   "metadata": {},
   "outputs": [],
   "source": [
    "# Probability assuming null hyposthesis, to compare with Type-1 error α = 0.05"
   ]
  },
  {
   "cell_type": "code",
   "execution_count": 6,
   "id": "b84f9d84",
   "metadata": {},
   "outputs": [
    {
     "data": {
      "text/plain": [
       "0.20588503245107104"
      ]
     },
     "execution_count": 6,
     "metadata": {},
     "output_type": "execute_result"
    }
   ],
   "source": [
    "p_value=1-stats.norm.cdf(abs(z_scores))\n",
    "p_value"
   ]
  },
  {
   "cell_type": "code",
   "execution_count": null,
   "id": "4bb56ad0",
   "metadata": {},
   "outputs": [],
   "source": [
    "# (p_value = 0.2058) > (α = 0.05) accept nullhypothesis\n",
    "#Comparing it with Microsoft's claim that Mozilla has a less than 5% share of the whole market is True. Hence, we can conclude that Mozilla has a less than 5% share of the market."
   ]
  }
 ],
 "metadata": {
  "kernelspec": {
   "display_name": "Python 3",
   "language": "python",
   "name": "python3"
  },
  "language_info": {
   "codemirror_mode": {
    "name": "ipython",
    "version": 3
   },
   "file_extension": ".py",
   "mimetype": "text/x-python",
   "name": "python",
   "nbconvert_exporter": "python",
   "pygments_lexer": "ipython3",
   "version": "3.8.8"
  }
 },
 "nbformat": 4,
 "nbformat_minor": 5
}
